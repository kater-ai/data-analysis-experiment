{
 "cells": [
  {
   "cell_type": "code",
   "execution_count": 79,
   "metadata": {},
   "outputs": [],
   "source": [
    "from jinja2 import Environment, FileSystemLoader\n",
    "import os\n",
    "import openai\n",
    "import boto3\n",
    "import json\n",
    "\n",
    "def prompt_iterator(template: str):\n",
    "  data_dir = './data'\n",
    "\n",
    "  file_list = os.listdir(data_dir)\n",
    "  file_list.sort(key=lambda x: int(x[1:x.index(\".\")]))\n",
    "\n",
    "  for file_name in file_list:\n",
    "    file_path = os.path.join(data_dir, file_name)\n",
    "\n",
    "    with open(file_path, 'r') as file:\n",
    "      data = file.read()\n",
    "\n",
    "    output = template.render(data=data)\n",
    "    \n",
    "    yield output\n",
    "\n",
    "env = Environment(loader=FileSystemLoader('.'))\n",
    "template = env.get_template('prompt.j2')\n",
    "\n",
    "openai_client = openai.OpenAI()\n",
    "def generate_openai_completion(prompt: str, test_case: int):\n",
    "  response = openai_client.chat.completions.create(\n",
    "    model=\"gpt-4-turbo-preview\",\n",
    "    messages=[\n",
    "      {\"role\": \"assistant\", \"content\": prompt},\n",
    "    ],\n",
    "    temperature=0.3,\n",
    "  )\n",
    "\n",
    "  completion = response.choices[0].message.content\n",
    "  with open(f\"./gpt4/d{test_case}.txt\", 'w') as file:\n",
    "    file.write(completion)\n",
    "\n",
    "\n",
    "bedrock_client = boto3.client('bedrock-runtime', region_name='us-east-1')\n",
    "def generate_claude_completion(prompt: str, test_case: int):\n",
    "  body = {\n",
    "    \"messages\": [{ \"role\": \"user\", \"content\": [{ \"type\": \"text\", \"text\": prompt}]}],\n",
    "    \"anthropic_version\": \"bedrock-2023-05-31\",\n",
    "    \"temperature\": 0.3,\n",
    "    \"top_p\": 1,\n",
    "    \"top_k\": 50,\n",
    "    \"max_tokens\": 4096,\n",
    "    }\n",
    "  \n",
    "  response = bedrock_client.invoke_model(modelId=\"anthropic.claude-3-sonnet-20240229-v1:0\", body=json.dumps(body))\n",
    "\n",
    "  response_body = json.loads(response[\"body\"].read())\n",
    "  completion = response_body[\"content\"][0][\"text\"]\n",
    "\n",
    "  with open(f\"./claude3/d{test_case}.txt\", 'w') as file:\n",
    "    file.write(completion)"
   ]
  },
  {
   "cell_type": "code",
   "execution_count": 80,
   "metadata": {},
   "outputs": [],
   "source": [
    "for i, p in enumerate(prompt_iterator(template)):\n",
    "  if i == 0:\n",
    "    generate_claude_completion(p, i + 1)"
   ]
  }
 ],
 "metadata": {
  "kernelspec": {
   "display_name": "data-analysis-experiment-HN9RkQcu-py3.10",
   "language": "python",
   "name": "python3"
  },
  "language_info": {
   "codemirror_mode": {
    "name": "ipython",
    "version": 3
   },
   "file_extension": ".py",
   "mimetype": "text/x-python",
   "name": "python",
   "nbconvert_exporter": "python",
   "pygments_lexer": "ipython3",
   "version": "3.10.12"
  }
 },
 "nbformat": 4,
 "nbformat_minor": 2
}
